{
 "cells": [
  {
   "cell_type": "markdown",
   "metadata": {},
   "source": [
    "# Feed-Forward Neural Network with two hidden layers"
   ]
  },
  {
   "cell_type": "code",
   "execution_count": 131,
   "metadata": {
    "ExecuteTime": {
     "end_time": "2021-05-06T11:14:50.770035Z",
     "start_time": "2021-05-06T11:14:50.765032Z"
    }
   },
   "outputs": [],
   "source": [
    "import numpy as np\n",
    "import pandas as pd\n",
    "import matplotlib.pyplot as plt\n",
    "#from sklearn.datasets import load_digits\n",
    "from sklearn.model_selection import train_test_split\n",
    "from sklearn.preprocessing import StandardScaler\n",
    "from sklearn.metrics import accuracy_score,classification_report"
   ]
  },
  {
   "cell_type": "code",
   "execution_count": 132,
   "metadata": {
    "ExecuteTime": {
     "end_time": "2021-05-06T11:14:51.318500Z",
     "start_time": "2021-05-06T11:14:51.302514Z"
    }
   },
   "outputs": [],
   "source": [
    "from tensorflow.keras.datasets import mnist\n",
    "from keras.models import Sequential\n",
    "from keras.layers.core import Dense, Dropout, Activation\n",
    "from keras.optimizers import Adadelta,Adam,RMSprop\n",
    "from keras.utils import np_utils"
   ]
  },
  {
   "cell_type": "code",
   "execution_count": 133,
   "metadata": {
    "ExecuteTime": {
     "end_time": "2021-05-06T11:14:52.206118Z",
     "start_time": "2021-05-06T11:14:51.808871Z"
    }
   },
   "outputs": [],
   "source": [
    "# shuffle and split the data between a train and test sets \n",
    "(X_train, y_train), (X_test, y_test) = mnist.load_data()"
   ]
  },
  {
   "cell_type": "code",
   "execution_count": 134,
   "metadata": {
    "ExecuteTime": {
     "end_time": "2021-05-06T11:14:52.427181Z",
     "start_time": "2021-05-06T11:14:52.414176Z"
    }
   },
   "outputs": [],
   "source": [
    "# Defining hyper parameters\n",
    "np.random.seed(1337)\n",
    "nb_classes = 10\n",
    "batch_size = 128\n",
    "nb_epochs = 20 \n",
    "image_size = 784 # 28 x 28"
   ]
  },
  {
   "cell_type": "code",
   "execution_count": 135,
   "metadata": {
    "ExecuteTime": {
     "end_time": "2021-05-06T11:14:53.241172Z",
     "start_time": "2021-05-06T11:14:53.235183Z"
    }
   },
   "outputs": [],
   "source": [
    "X_train = X_train.reshape(X_train.shape[0], X_train.shape[1]*X_train.shape[2])\n",
    "X_test = X_test.reshape(X_test.shape[0], X_test.shape[1]*X_test.shape[2])"
   ]
  },
  {
   "cell_type": "code",
   "execution_count": 136,
   "metadata": {
    "ExecuteTime": {
     "end_time": "2021-05-06T11:14:54.353976Z",
     "start_time": "2021-05-06T11:14:54.334979Z"
    }
   },
   "outputs": [
    {
     "name": "stdout",
     "output_type": "stream",
     "text": [
      "Number of training examples : 60000 and each image is of shape (784)\n",
      "Number of testing examples : 10000 and each image is of shape (784)\n"
     ]
    }
   ],
   "source": [
    "print(\"Number of training examples :\",X_train.shape[0], \"and each image is of shape (%d)\"%(X_train.shape[1]))\n",
    "print(\"Number of testing examples :\",X_test.shape[0], \"and each image is of shape (%d)\"%(X_test.shape[1])) "
   ]
  },
  {
   "cell_type": "code",
   "execution_count": 137,
   "metadata": {
    "ExecuteTime": {
     "end_time": "2021-05-06T11:14:55.819308Z",
     "start_time": "2021-05-06T11:14:55.548288Z"
    }
   },
   "outputs": [],
   "source": [
    "#Normalization\n",
    "X_train = X_train/255\n",
    "X_test = X_test/255"
   ]
  },
  {
   "cell_type": "code",
   "execution_count": 138,
   "metadata": {
    "ExecuteTime": {
     "end_time": "2021-05-06T11:14:57.073378Z",
     "start_time": "2021-05-06T11:14:57.048392Z"
    }
   },
   "outputs": [
    {
     "name": "stdout",
     "output_type": "stream",
     "text": [
      "Class label of first image : 5\n",
      "After converting the output into a vector :  [0. 0. 0. 0. 0. 1. 0. 0. 0. 0.]\n"
     ]
    }
   ],
   "source": [
    "#labelling\n",
    "\n",
    "print(\"Class label of first image :\", y_train[0])\n",
    "\n",
    "Y_train = np_utils.to_categorical(y_train, 10)\n",
    "Y_test = np_utils.to_categorical(y_test, 10)\n",
    "\n",
    "print(\"After converting the output into a vector : \", Y_train[0])"
   ]
  },
  {
   "cell_type": "code",
   "execution_count": null,
   "metadata": {
    "ExecuteTime": {
     "end_time": "2021-05-06T08:15:04.466702Z",
     "start_time": "2021-05-06T08:15:04.407672Z"
    }
   },
   "outputs": [],
   "source": []
  },
  {
   "cell_type": "code",
   "execution_count": 140,
   "metadata": {
    "ExecuteTime": {
     "end_time": "2021-05-06T11:15:39.493676Z",
     "start_time": "2021-05-06T11:15:39.405679Z"
    }
   },
   "outputs": [
    {
     "name": "stdout",
     "output_type": "stream",
     "text": [
      "Model: \"sequential_8\"\n",
      "_________________________________________________________________\n",
      "Layer (type)                 Output Shape              Param #   \n",
      "=================================================================\n",
      "dense_22 (Dense)             (None, 32)                25120     \n",
      "_________________________________________________________________\n",
      "dense_23 (Dense)             (None, 16)                528       \n",
      "_________________________________________________________________\n",
      "dense_24 (Dense)             (None, 10)                170       \n",
      "=================================================================\n",
      "Total params: 25,818\n",
      "Trainable params: 25,818\n",
      "Non-trainable params: 0\n",
      "_________________________________________________________________\n"
     ]
    }
   ],
   "source": [
    "#Model Building with two hidden layers\n",
    "\n",
    "model = Sequential()\n",
    "\n",
    "# The input layer requires the special input_shape parameter which should match\n",
    "# the shape of our training data.\n",
    "model.add(Dense(units=32, activation='relu', input_shape=(image_size,)))\n",
    "model.add(Dense(units=16, activation='relu'))\n",
    "model.add(Dense(units=nb_classes, activation='softmax'))\n",
    "model.summary() "
   ]
  },
  {
   "cell_type": "code",
   "execution_count": 141,
   "metadata": {
    "ExecuteTime": {
     "end_time": "2021-05-06T11:15:40.485497Z",
     "start_time": "2021-05-06T11:15:40.448491Z"
    }
   },
   "outputs": [],
   "source": [
    "model.compile(optimizer='sgd', loss='categorical_crossentropy', metrics=['accuracy'])"
   ]
  },
  {
   "cell_type": "code",
   "execution_count": 142,
   "metadata": {
    "ExecuteTime": {
     "end_time": "2021-05-06T11:16:09.095191Z",
     "start_time": "2021-05-06T11:15:41.519538Z"
    }
   },
   "outputs": [
    {
     "name": "stdout",
     "output_type": "stream",
     "text": [
      "Epoch 1/20\n",
      "469/469 [==============================] - 2s 4ms/step - loss: 1.6143 - accuracy: 0.4905 - val_loss: 0.8772 - val_accuracy: 0.7716\n",
      "Epoch 2/20\n",
      "469/469 [==============================] - 1s 3ms/step - loss: 0.6803 - accuracy: 0.8145 - val_loss: 0.5167 - val_accuracy: 0.8592\n",
      "Epoch 3/20\n",
      "469/469 [==============================] - 1s 3ms/step - loss: 0.4793 - accuracy: 0.8660 - val_loss: 0.4081 - val_accuracy: 0.8863\n",
      "Epoch 4/20\n",
      "469/469 [==============================] - 1s 3ms/step - loss: 0.4051 - accuracy: 0.8865 - val_loss: 0.3619 - val_accuracy: 0.8980\n",
      "Epoch 5/20\n",
      "469/469 [==============================] - 1s 3ms/step - loss: 0.3666 - accuracy: 0.8965 - val_loss: 0.3373 - val_accuracy: 0.9018\n",
      "Epoch 6/20\n",
      "469/469 [==============================] - 1s 3ms/step - loss: 0.3426 - accuracy: 0.9026 - val_loss: 0.3159 - val_accuracy: 0.9092\n",
      "Epoch 7/20\n",
      "469/469 [==============================] - 1s 3ms/step - loss: 0.3252 - accuracy: 0.9078 - val_loss: 0.3026 - val_accuracy: 0.9133\n",
      "Epoch 8/20\n",
      "469/469 [==============================] - 1s 3ms/step - loss: 0.3112 - accuracy: 0.9112 - val_loss: 0.2923 - val_accuracy: 0.9157\n",
      "Epoch 9/20\n",
      "469/469 [==============================] - 1s 3ms/step - loss: 0.2990 - accuracy: 0.9148 - val_loss: 0.2837 - val_accuracy: 0.9202\n",
      "Epoch 10/20\n",
      "469/469 [==============================] - 1s 3ms/step - loss: 0.2891 - accuracy: 0.9178 - val_loss: 0.2743 - val_accuracy: 0.9221\n",
      "Epoch 11/20\n",
      "469/469 [==============================] - 1s 3ms/step - loss: 0.2798 - accuracy: 0.9197 - val_loss: 0.2671 - val_accuracy: 0.9247\n",
      "Epoch 12/20\n",
      "469/469 [==============================] - 1s 3ms/step - loss: 0.2716 - accuracy: 0.9221 - val_loss: 0.2602 - val_accuracy: 0.9269\n",
      "Epoch 13/20\n",
      "469/469 [==============================] - 1s 3ms/step - loss: 0.2640 - accuracy: 0.9240 - val_loss: 0.2524 - val_accuracy: 0.9300\n",
      "Epoch 14/20\n",
      "469/469 [==============================] - 1s 3ms/step - loss: 0.2569 - accuracy: 0.9262 - val_loss: 0.2497 - val_accuracy: 0.9306\n",
      "Epoch 15/20\n",
      "469/469 [==============================] - 1s 3ms/step - loss: 0.2505 - accuracy: 0.9283 - val_loss: 0.2449 - val_accuracy: 0.9312\n",
      "Epoch 16/20\n",
      "469/469 [==============================] - 2s 3ms/step - loss: 0.2446 - accuracy: 0.9301 - val_loss: 0.2378 - val_accuracy: 0.9326\n",
      "Epoch 17/20\n",
      "469/469 [==============================] - 1s 3ms/step - loss: 0.2390 - accuracy: 0.9316 - val_loss: 0.2322 - val_accuracy: 0.9352\n",
      "Epoch 18/20\n",
      "469/469 [==============================] - 1s 3ms/step - loss: 0.2338 - accuracy: 0.9337 - val_loss: 0.2278 - val_accuracy: 0.9357\n",
      "Epoch 19/20\n",
      "469/469 [==============================] - 1s 3ms/step - loss: 0.2289 - accuracy: 0.9352 - val_loss: 0.2245 - val_accuracy: 0.9362\n",
      "Epoch 20/20\n",
      "469/469 [==============================] - 2s 3ms/step - loss: 0.2244 - accuracy: 0.9363 - val_loss: 0.2206 - val_accuracy: 0.9374\n"
     ]
    }
   ],
   "source": [
    "history = model.fit(X_train, Y_train, batch_size=batch_size, epochs=nb_epochs, verbose=1, validation_data=(X_test,Y_test)) "
   ]
  },
  {
   "cell_type": "code",
   "execution_count": null,
   "metadata": {},
   "outputs": [],
   "source": []
  },
  {
   "cell_type": "code",
   "execution_count": 143,
   "metadata": {
    "ExecuteTime": {
     "end_time": "2021-05-06T11:16:32.744815Z",
     "start_time": "2021-05-06T11:16:32.351471Z"
    }
   },
   "outputs": [
    {
     "name": "stdout",
     "output_type": "stream",
     "text": [
      "Model loss: 22.064705, Accuracy: 93.739998\n"
     ]
    }
   ],
   "source": [
    "#evalute the model\n",
    "\n",
    "loss, accuracy = model.evaluate(X_test,Y_test,verbose=0) \n",
    "print('Model loss: %2f, Accuracy: %2f'%((loss*100),(accuracy*100))) "
   ]
  },
  {
   "cell_type": "code",
   "execution_count": 144,
   "metadata": {
    "ExecuteTime": {
     "end_time": "2021-05-06T11:16:35.793040Z",
     "start_time": "2021-05-06T11:16:34.378078Z"
    }
   },
   "outputs": [
    {
     "name": "stdout",
     "output_type": "stream",
     "text": [
      "\n",
      "Deep Neural Network - Train accuracy:\n",
      "\n",
      "Deep Neural Network - Train Classification Report\n",
      "classification_report(y_train,y_train_predclass)\n",
      "\n",
      "Deep Neural Network - Train Confusion Matrix\n",
      "\n",
      "Predicted     0     1     2     3     4     5     6     7     8     9\n",
      "Actual                                                               \n",
      "0          5714     0    20    12     9    43    46    10    60     9\n",
      "1             1  6564    32    29     8    15     3    10    71     9\n",
      "2            27    65  5427    85    65    22    78    62   117    10\n",
      "3            11    24    93  5651     3   158    23    51    84    33\n",
      "4            11    29    25     3  5531     4    62     9    36   132\n",
      "5            55    27    26   154    38  4909    78    15    79    40\n",
      "6            32    21    18     2    51    42  5711     0    41     0\n",
      "7            14    43    58    22    50     5     2  5953    10   108\n",
      "8            26    91    29    84    20    46    59    13  5435    48\n",
      "9            34    35     8    62   190    30     2   138    82  5368\n"
     ]
    }
   ],
   "source": [
    "#Model Prediction\n",
    "y_train_predclass = model.predict_classes(X_train,batch_size=batch_size)\n",
    "y_test_predclass = model.predict_classes(X_test,batch_size=batch_size)\n",
    "print (\"\\nDeep Neural Network - Train accuracy:\"), (round(accuracy_score(y_train,y_train_predclass),3))\n",
    "print (\"\\nDeep Neural Network - Train Classification Report\")\n",
    "print (\"classification_report(y_train,y_train_predclass)\") \n",
    "print (\"\\nDeep Neural Network - Train Confusion Matrix\\n\")\n",
    "print (pd.crosstab(y_train,y_train_predclass,rownames = [\"Actual\"],colnames = [\"Predicted\"]) ) "
   ]
  },
  {
   "cell_type": "code",
   "execution_count": 145,
   "metadata": {
    "ExecuteTime": {
     "end_time": "2021-05-06T11:16:35.904056Z",
     "start_time": "2021-05-06T11:16:35.831041Z"
    }
   },
   "outputs": [
    {
     "name": "stdout",
     "output_type": "stream",
     "text": [
      "\n",
      "Deep Neural Network - Testaccuracy:\n",
      "\n",
      "Deep Neural Network - Test Classification Report\n",
      "              precision    recall  f1-score   support\n",
      "\n",
      "           0       0.96      0.98      0.97       980\n",
      "           1       0.97      0.98      0.97      1135\n",
      "           2       0.94      0.91      0.93      1032\n",
      "           3       0.92      0.93      0.92      1010\n",
      "           4       0.92      0.95      0.93       982\n",
      "           5       0.94      0.90      0.92       892\n",
      "           6       0.94      0.96      0.95       958\n",
      "           7       0.94      0.93      0.94      1028\n",
      "           8       0.90      0.94      0.92       974\n",
      "           9       0.94      0.89      0.92      1009\n",
      "\n",
      "    accuracy                           0.94     10000\n",
      "   macro avg       0.94      0.94      0.94     10000\n",
      "weighted avg       0.94      0.94      0.94     10000\n",
      "\n",
      "\n",
      "Deep Neural Network - Test Confusion Matrix\n",
      "\n",
      "Predicted    0     1    2    3    4    5    6    7    8    9\n",
      "Actual                                                      \n",
      "0          957     0    2    2    0    5    8    2    3    1\n",
      "1            0  1107    3    3    1    0    3    2   16    0\n",
      "2            6     9  944   14    9    5   10    9   23    3\n",
      "3            1     0   18  938    0   18    3   15   14    3\n",
      "4            2     1    3    0  933    0   10    3    6   24\n",
      "5            8     2    3   31    6  803   13    3   17    6\n",
      "6            8     3    5    1   12    9  916    0    4    0\n",
      "7            2     8   21   11    6    1    0  961    2   16\n",
      "8            5     4    1   14    7    6    9    9  913    6\n",
      "9            6     9    1    8   40    5    1   18   19  902\n"
     ]
    }
   ],
   "source": [
    "print (\"\\nDeep Neural Network - Testaccuracy:\"),(round(accuracy_score(y_test, y_test_predclass),3))\n",
    "print (\"\\nDeep Neural Network - Test Classification Report\")\n",
    "print (classification_report(y_test,y_test_predclass))\n",
    "print (\"\\nDeep Neural Network - Test Confusion Matrix\\n\")\n",
    "print (pd.crosstab(y_test,y_test_predclass,rownames =[\"Actual\"],colnames = [\"Predicted\"]) )"
   ]
  },
  {
   "cell_type": "code",
   "execution_count": null,
   "metadata": {
    "ExecuteTime": {
     "end_time": "2021-05-06T11:09:41.314898Z",
     "start_time": "2021-05-06T11:09:40.908119Z"
    }
   },
   "outputs": [],
   "source": []
  },
  {
   "cell_type": "code",
   "execution_count": 146,
   "metadata": {
    "ExecuteTime": {
     "end_time": "2021-05-06T11:16:37.859127Z",
     "start_time": "2021-05-06T11:16:37.845143Z"
    }
   },
   "outputs": [
    {
     "data": {
      "text/plain": [
       "['loss', 'accuracy']"
      ]
     },
     "execution_count": 146,
     "metadata": {},
     "output_type": "execute_result"
    }
   ],
   "source": [
    "model.metrics_names"
   ]
  },
  {
   "cell_type": "code",
   "execution_count": null,
   "metadata": {
    "ExecuteTime": {
     "end_time": "2021-05-06T11:09:45.136153Z",
     "start_time": "2021-05-06T11:09:45.126822Z"
    }
   },
   "outputs": [],
   "source": []
  },
  {
   "cell_type": "code",
   "execution_count": 147,
   "metadata": {
    "ExecuteTime": {
     "end_time": "2021-05-06T11:16:39.633321Z",
     "start_time": "2021-05-06T11:16:39.317544Z"
    }
   },
   "outputs": [
    {
     "data": {
      "image/png": "[encoded data removed]",
      "text/plain": [
       "<Figure size 432x288 with 1 Axes>"
      ]
     },
     "metadata": {
      "needs_background": "light"
     },
     "output_type": "display_data"
    }
   ],
   "source": [
    "# summarize history for loss\n",
    "\n",
    "loss_values = history.history['loss']\n",
    "epochs = range(1, len(loss_values)+1)\n",
    "\n",
    "plt.plot(epochs, loss_values, label='Training Loss')\n",
    "plt.xlabel('Epochs')\n",
    "plt.ylabel('Loss')\n",
    "plt.legend()\n",
    "\n",
    "plt.show()"
   ]
  },
  {
   "cell_type": "code",
   "execution_count": 148,
   "metadata": {
    "ExecuteTime": {
     "end_time": "2021-05-06T11:16:40.916471Z",
     "start_time": "2021-05-06T11:16:40.668412Z"
    }
   },
   "outputs": [
    {
     "data": {
      "image/png": "[encoded data removed]",
      "text/plain": [
       "<Figure size 432x288 with 1 Axes>"
      ]
     },
     "metadata": {
      "needs_background": "light"
     },
     "output_type": "display_data"
    }
   ],
   "source": [
    "# summarize history for accuracy\n",
    "\n",
    "accuracy_values = history.history['accuracy']\n",
    "epochs = range(1, len(accuracy_values)+1)\n",
    "\n",
    "plt.plot(epochs, accuracy_values, label='Training Accuracy')\n",
    "plt.xlabel('Epochs')\n",
    "plt.ylabel('Accuracy')\n",
    "plt.legend()\n",
    "\n",
    "plt.show()"
   ]
  },
  {
   "cell_type": "code",
   "execution_count": null,
   "metadata": {},
   "outputs": [],
   "source": []
  },
  {
   "cell_type": "code",
   "execution_count": 149,
   "metadata": {
    "ExecuteTime": {
     "end_time": "2021-05-06T11:16:42.454310Z",
     "start_time": "2021-05-06T11:16:42.433327Z"
    }
   },
   "outputs": [
    {
     "name": "stdout",
     "output_type": "stream",
     "text": [
      "dict_keys(['loss', 'accuracy', 'val_loss', 'val_accuracy'])\n"
     ]
    }
   ],
   "source": [
    "print(history.history.keys())"
   ]
  },
  {
   "cell_type": "code",
   "execution_count": 150,
   "metadata": {
    "ExecuteTime": {
     "end_time": "2021-05-06T11:16:43.241704Z",
     "start_time": "2021-05-06T11:16:43.221707Z"
    }
   },
   "outputs": [],
   "source": [
    "import time\n",
    "\n",
    "def plt_dynamic(x, vy, ty, ax, colors=['b']):\n",
    "    ax.plot(x, vy, 'b', label = \"Validation Loss\")\n",
    "    ax.plot(x, ty, 'r', label = \"Train Loss\")\n",
    "    plt.legend()\n",
    "    plt.grid()\n",
    "    fig.canvas.draw()"
   ]
  },
  {
   "cell_type": "code",
   "execution_count": 151,
   "metadata": {
    "ExecuteTime": {
     "end_time": "2021-05-06T11:16:44.793266Z",
     "start_time": "2021-05-06T11:16:44.474240Z"
    }
   },
   "outputs": [
    {
     "data": {
      "image/png": "[encoded data removed]",
      "text/plain": [
       "<Figure size 432x288 with 1 Axes>"
      ]
     },
     "metadata": {
      "needs_background": "light"
     },
     "output_type": "display_data"
    }
   ],
   "source": [
    "fig,ax = plt.subplots(1,1)\n",
    "ax.set_xlabel('epoch') \n",
    "ax.set_ylabel(\"categorical crossentropy loss\")\n",
    "x=list(range(1, nb_epochs+1))  \n",
    "vy=history.history['val_loss']\n",
    "ty=history.history['loss']\n",
    "plt_dynamic(x, vy, ty, ax) "
   ]
  },
  {
   "cell_type": "markdown",
   "metadata": {},
   "source": [
    "# THANK YOU, \n",
    "\n",
    "\n",
    "Regards,\n",
    "\n",
    "CHANDRA MOULI"
   ]
  },
  {
   "cell_type": "code",
   "execution_count": null,
   "metadata": {},
   "outputs": [],
   "source": []
  },
  {
   "cell_type": "code",
   "execution_count": null,
   "metadata": {},
   "outputs": [],
   "source": []
  }
 ],
 "metadata": {
  "kernelspec": {
   "display_name": "Python 3",
   "language": "python",
   "name": "python3"
  },
  "language_info": {
   "codemirror_mode": {
    "name": "ipython",
    "version": 3
   },
   "file_extension": ".py",
   "mimetype": "text/x-python",
   "name": "python",
   "nbconvert_exporter": "python",
   "pygments_lexer": "ipython3",
   "version": "3.8.3"
  },
  "varInspector": {
   "cols": {
    "lenName": 16,
    "lenType": 16,
    "lenVar": 40
   },
   "kernels_config": {
    "python": {
     "delete_cmd_postfix": "",
     "delete_cmd_prefix": "del ",
     "library": "var_list.py",
     "varRefreshCmd": "print(var_dic_list())"
    },
    "r": {
     "delete_cmd_postfix": ") ",
     "delete_cmd_prefix": "rm(",
     "library": "var_list.r",
     "varRefreshCmd": "cat(var_dic_list()) "
    }
   },
   "types_to_exclude": [
    "module",
    "function",
    "builtin_function_or_method",
    "instance",
    "_Feature"
   ],
   "window_display": false
  }
 },
 "nbformat": 4,
 "nbformat_minor": 4
}
